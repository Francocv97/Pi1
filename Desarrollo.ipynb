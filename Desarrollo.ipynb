{
 "cells": [
  {
   "cell_type": "code",
   "execution_count": null,
   "metadata": {},
   "outputs": [],
   "source": [
    "import pandas as pd\n"
   ]
  },
  {
   "cell_type": "code",
   "execution_count": null,
   "metadata": {},
   "outputs": [],
   "source": [
    "import json\n"
   ]
  },
  {
   "cell_type": "code",
   "execution_count": null,
   "metadata": {},
   "outputs": [],
   "source": [
    "#/Users/Franco/Desktop/PI MLOps - STEAM-20230926T220546Z-001/PI MLOps - STEAM\n"
   ]
  },
  {
   "cell_type": "code",
   "execution_count": null,
   "metadata": {},
   "outputs": [],
   "source": [
    "with open('/Users/Franco/Desktop/Desarrollando Pi1/output_steam_games.json', 'r') as file:\n",
    "    for line in file:\n",
    "        data = json.loads(line)\n",
    "        # Realiza operaciones con data\n"
   ]
  },
  {
   "cell_type": "code",
   "execution_count": null,
   "metadata": {},
   "outputs": [],
   "source": [
    "nombre_archivo = 'output_steam_games.json'\n",
    "\n",
    "# Lista para almacenar los objetos JSON\n",
    "lista_json = []\n",
    "\n",
    "# Leer el archivo línea por línea y cargar cada línea como un objeto JSON\n",
    "with open(nombre_archivo, 'r') as archivo:\n",
    "    for linea in archivo:\n",
    "        objeto_json = json.loads(linea)\n",
    "        lista_json.append(objeto_json)\n",
    "\n",
    "# Crear un DataFrame de pandas con la lista de objetos JSON\n",
    "df = pd.DataFrame(lista_json)"
   ]
  },
  {
   "cell_type": "code",
   "execution_count": null,
   "metadata": {},
   "outputs": [],
   "source": [
    "print(df.head(10))"
   ]
  },
  {
   "cell_type": "code",
   "execution_count": null,
   "metadata": {},
   "outputs": [],
   "source": [
    "df_sin_NaN = df.dropna()"
   ]
  },
  {
   "cell_type": "code",
   "execution_count": null,
   "metadata": {},
   "outputs": [],
   "source": [
    "num_filas, num_columnas = df_sin_NaN.shape\n",
    "\n",
    "# Imprimir el resultado\n",
    "print(f\"El DataFrame tiene {num_filas} filas y {num_columnas} columnas.\")"
   ]
  },
  {
   "cell_type": "code",
   "execution_count": null,
   "metadata": {},
   "outputs": [],
   "source": [
    "print(df_sin_NaN.head())"
   ]
  },
  {
   "cell_type": "code",
   "execution_count": null,
   "metadata": {},
   "outputs": [],
   "source": [
    "JuegosSteamsinNaNcsv = \"df_sin_NaN.csv\"\n",
    "\n",
    "# Exporta el DataFrame a un archivo CSV\n",
    "df_sin_NaN.to_csv(JuegosSteamsinNaNcsv, index=False)"
   ]
  },
  {
   "cell_type": "code",
   "execution_count": null,
   "metadata": {},
   "outputs": [],
   "source": [
    "import pandas as pd\n",
    "import ast  # Importa ast\n",
    "\n",
    "# Cargar el archivo JSON completo\n",
    "reviews = []\n",
    "with open('/Users/Franco/Desktop/Desarrollando Pi1/australian_user_reviews.json', 'r', encoding='utf-8') as file:\n",
    "    for line in file.readlines():\n",
    "        reviews.append(ast.literal_eval(line))  # Utiliza ast.literal_eval\n",
    "\n",
    "# Crear un DataFrame a partir de los datos cargados\n",
    "df_reviews = pd.DataFrame(reviews)\n",
    "\n",
    "# Ahora puedes trabajar con df_reviews como lo necesites\n",
    "df_reviews.head()  # Muestra las primeras 5 filas\n",
    "\n",
    "\n",
    "#australian_user_reviews.json\n"
   ]
  },
  {
   "cell_type": "code",
   "execution_count": null,
   "metadata": {},
   "outputs": [],
   "source": [
    "df_reviewsfull = df_reviews.explode('reviews', ignore_index=True)\n",
    "\n",
    "# Desanidar las columnas anidadas dentro de 'reviews'\n",
    "df_reviewsfull = pd.concat([df_reviewsfull, pd.json_normalize(df_reviewsfull['reviews'])], axis=1)\n",
    "\n",
    "# Eliminar la columna original 'reviews'\n",
    "df_reviewsfull.drop(columns='reviews', inplace=True)"
   ]
  },
  {
   "cell_type": "code",
   "execution_count": null,
   "metadata": {},
   "outputs": [],
   "source": [
    "df_reviewsfull.head()"
   ]
  },
  {
   "cell_type": "code",
   "execution_count": null,
   "metadata": {},
   "outputs": [],
   "source": [
    "#Con el segundo archivo cargado en DataFrame, solo nos falta \n",
    "# australian_users_items.json"
   ]
  },
  {
   "cell_type": "code",
   "execution_count": null,
   "metadata": {},
   "outputs": [],
   "source": [
    "\n",
    "import pandas as pd\n",
    "import ast  # Importa ast\n",
    "\n",
    "# Cargar el archivo JSON completo\n",
    "reviews1 = []\n",
    "with open('/Users/Franco/Desktop/Desarrollando Pi1/australian_users_items.json', 'r', encoding='utf-8') as file:\n",
    "    for line in file.readlines():\n",
    "        reviews1.append(ast.literal_eval(line))  # Utiliza ast.literal_eval\n",
    "\n",
    "# Crear un DataFrame a partir de los datos cargados\n",
    "df_user_items = pd.DataFrame(reviews1)\n",
    "\n",
    "# Ahora puedes trabajar con df_reviews como lo necesites\n",
    "df_user_items.head()  # Muestra las primeras 5 filas\n",
    "\n",
    "\n",
    "#australian_user_reviews.json"
   ]
  },
  {
   "cell_type": "code",
   "execution_count": null,
   "metadata": {},
   "outputs": [],
   "source": [
    "df_reviewsfull1 = df_user_items.explode('items', ignore_index=True)\n",
    "\n",
    "# Desanidar las columnas anidadas dentro de 'reviews'\n",
    "df_reviewsfull1 = pd.concat([df_reviewsfull1, pd.json_normalize(df_reviewsfull1['items'])], axis=1)\n",
    "\n",
    "# Eliminar la columna original 'reviews'\n",
    "df_reviewsfull1.drop(columns='items', inplace=True)\n",
    "\n",
    "df_reviewsfull1.head()"
   ]
  },
  {
   "cell_type": "code",
   "execution_count": null,
   "metadata": {},
   "outputs": [],
   "source": [
    "# Analisis de sentimiento"
   ]
  },
  {
   "cell_type": "code",
   "execution_count": null,
   "metadata": {},
   "outputs": [],
   "source": [
    "from textblob import TextBlob\n",
    "\n",
    "# Función para analizar el sentimiento de una reseña\n",
    "def analyze_sentiment(review):\n",
    "    if isinstance(review, str):  # Verifica si 'review' es una cadena de texto\n",
    "        analysis = TextBlob(review)\n",
    "        # Evaluamos la polaridad de la reseña (negativo: < 0, neutral: 0, positivo: > 0)\n",
    "        if analysis.sentiment.polarity < 0:\n",
    "            return 0  # Sentimiento negativo\n",
    "        elif analysis.sentiment.polarity == 0:\n",
    "            return 1  # Sentimiento neutral\n",
    "        else:\n",
    "            return 2  # Sentimiento positivo\n",
    "    else:\n",
    "        return 1  # Si no es una cadena de texto, asignar valor neutral (1)\n",
    "\n",
    "# Aplicar la función a la columna 'user_reviews.review' y crear la nueva columna 'sentiment_analysis'\n",
    "df_reviewsfull['sentiment_analysis'] = df_reviewsfull['review'].apply(analyze_sentiment)\n",
    "\n",
    "# Visualizar el resultado\n",
    "print(df_reviewsfull[['review', 'sentiment_analysis']].head(50))\n",
    "\n"
   ]
  },
  {
   "cell_type": "code",
   "execution_count": null,
   "metadata": {},
   "outputs": [],
   "source": [
    "df_reviewsfull.head(10)"
   ]
  },
  {
   "cell_type": "code",
   "execution_count": null,
   "metadata": {},
   "outputs": [],
   "source": [
    "# Eliminar la columna \"reviews\"\n",
    "df_reviewsfull.drop('review', axis=1, inplace=True)\n",
    "\n",
    "# Visualizar el DataFrame resultante\n",
    "print(df_reviewsfull.head(10))\n"
   ]
  },
  {
   "cell_type": "code",
   "execution_count": null,
   "metadata": {},
   "outputs": [],
   "source": [
    "import pandas as pd\n",
    "\n",
    "# Supongamos que tienes un DataFrame llamado 'df' que deseas guardar en un archivo CSV.\n",
    "# Puedes reemplazar 'df' con el nombre de tu DataFrame.\n",
    "\n",
    "# Especifica el nombre del archivo CSV en el que deseas guardar los datos.\n",
    "nombre_archivo_csv = 'df_reviewssentiment.csv'\n",
    "\n",
    "# Utiliza el método 'to_csv' de Pandas para guardar el DataFrame en el archivo CSV.\n",
    "df_reviewsfull.to_csv(nombre_archivo_csv, index=False)  # El argumento 'index=False' evita que se guarde el índice en el archivo CSV\n"
   ]
  },
  {
   "cell_type": "code",
   "execution_count": null,
   "metadata": {},
   "outputs": [],
   "source": [
    "# Terminado el Sentiment Analysis seguimos con la API"
   ]
  },
  {
   "cell_type": "code",
   "execution_count": null,
   "metadata": {},
   "outputs": [],
   "source": [
    "import pandas as pd\n",
    "\n",
    "# Cargar el archivo CSV en un DataFrame\n",
    "df = pd.read_csv('df_sin_NaN.csv')\n",
    "\n",
    "# Limpiar los datos en la columna 'genres' para ver solo el primer elemento por fila\n",
    "df['genres'] = df['genres'].str.strip('[]').str.split(', ').str.get(0)\n",
    "\n",
    "# Verificar el resultado\n",
    "print(df['genres'].count())\n",
    "df.head()\n"
   ]
  },
  {
   "cell_type": "code",
   "execution_count": 20,
   "metadata": {},
   "outputs": [
    {
     "ename": "NameError",
     "evalue": "name 'df' is not defined",
     "output_type": "error",
     "traceback": [
      "\u001b[1;31m---------------------------------------------------------------------------\u001b[0m",
      "\u001b[1;31mNameError\u001b[0m                                 Traceback (most recent call last)",
      "\u001b[1;32mc:\\Users\\Franco\\Desktop\\Desarrollando Pi1\\Desarrollo.ipynb Cell 24\u001b[0m line \u001b[0;36m5\n\u001b[0;32m      <a href='vscode-notebook-cell:/c%3A/Users/Franco/Desktop/Desarrollando%20Pi1/Desarrollo.ipynb#X32sZmlsZQ%3D%3D?line=1'>2</a>\u001b[0m \u001b[39mfrom\u001b[39;00m \u001b[39mdatetime\u001b[39;00m \u001b[39mimport\u001b[39;00m datetime\n\u001b[0;32m      <a href='vscode-notebook-cell:/c%3A/Users/Franco/Desktop/Desarrollando%20Pi1/Desarrollo.ipynb#X32sZmlsZQ%3D%3D?line=3'>4</a>\u001b[0m \u001b[39m# Cargar el archivo CSV en un DataFrame\u001b[39;00m\n\u001b[1;32m----> <a href='vscode-notebook-cell:/c%3A/Users/Franco/Desktop/Desarrollando%20Pi1/Desarrollo.ipynb#X32sZmlsZQ%3D%3D?line=4'>5</a>\u001b[0m df \n\u001b[0;32m      <a href='vscode-notebook-cell:/c%3A/Users/Franco/Desktop/Desarrollando%20Pi1/Desarrollo.ipynb#X32sZmlsZQ%3D%3D?line=6'>7</a>\u001b[0m \u001b[39m# Limpiar los datos y crear la columna 'horas_jugadas'\u001b[39;00m\n\u001b[0;32m      <a href='vscode-notebook-cell:/c%3A/Users/Franco/Desktop/Desarrollando%20Pi1/Desarrollo.ipynb#X32sZmlsZQ%3D%3D?line=7'>8</a>\u001b[0m \u001b[39mdef\u001b[39;00m \u001b[39mclean_data\u001b[39m(df):\n\u001b[0;32m      <a href='vscode-notebook-cell:/c%3A/Users/Franco/Desktop/Desarrollando%20Pi1/Desarrollo.ipynb#X32sZmlsZQ%3D%3D?line=8'>9</a>\u001b[0m     \u001b[39m# Crear una copia independiente del DataFrame\u001b[39;00m\n",
      "\u001b[1;31mNameError\u001b[0m: name 'df' is not defined"
     ]
    }
   ],
   "source": [
    "import pandas as pd\n",
    "from datetime import datetime\n",
    "\n",
    "# Cargar el archivo CSV en un DataFrame\n",
    "df \n",
    "\n",
    "# Limpiar los datos y crear la columna 'horas_jugadas'\n",
    "def clean_data(df):\n",
    "    # Crear una copia independiente del DataFrame\n",
    "    df_cleaned = df.copy()\n",
    "    \n",
    "    # Eliminar filas con valores no válidos en release_date\n",
    "    df_cleaned = df_cleaned[df_cleaned['release_date'].str.match(r'\\d{4}-\\d{2}-\\d{2}', na=False)] \n",
    "    \n",
    "    # Convertir release_date a formato de fecha\n",
    "    df_cleaned['release_date'] = pd.to_datetime(df_cleaned['release_date'], format='%Y-%m-%d', errors='coerce')\n",
    "    \n",
    "    # Calcular las horas jugadas para cada juego\n",
    "    fecha_actual = datetime.now()\n",
    "    df_cleaned['horas_jugadas'] = (fecha_actual - df_cleaned['release_date']).dt.total_seconds() / 3600\n",
    "    \n",
    "    return df_cleaned\n",
    "\n",
    "# Llamar a la función para limpiar los datos y crear la columna 'horas_jugadas'\n",
    "df_cleaned = clean_data(df)\n",
    "\n",
    "# Ahora, puedes agrupar por año y género, y calcular la suma de horas jugadas para cada grupo\n",
    "horas_por_año_genero = df_cleaned.groupby([df_cleaned['release_date'].dt.year, 'genres'])['horas_jugadas'].sum().reset_index()\n",
    "\n",
    "# Ver el DataFrame con las horas jugadas por año y género\n",
    "horas_por_año_genero\n",
    "\n",
    "\n",
    "\n",
    "\n"
   ]
  },
  {
   "cell_type": "code",
   "execution_count": null,
   "metadata": {},
   "outputs": [],
   "source": [
    "# Definir el género específico que deseas consultar\n",
    "genero_especifico = 'Adventure'  # Reemplaza 'Action' con el género que desees\n",
    "\n",
    "# Filtrar el DataFrame por el género específico\n",
    "genero_filtrado = horas_por_año_genero[horas_por_año_genero['genres'].str.contains(genero_especifico, case=False)]\n",
    "\n",
    "# Encontrar el año con la suma máxima de horas jugadas para ese género\n",
    "año_max_horas = genero_filtrado.loc[genero_filtrado['horas_jugadas'].idxmax(), 'release_date']\n",
    "\n",
    "# Imprimir el año con la suma máxima de horas jugadas para el género específico\n",
    "print(f\"Año de lanzamiento con más horas jugadas para {genero_especifico}: {año_max_horas}\")\n"
   ]
  },
  {
   "cell_type": "code",
   "execution_count": null,
   "metadata": {},
   "outputs": [],
   "source": [
    "import pandas as pd\n",
    "\n",
    "# Supongamos que tienes un DataFrame llamado 'df' que deseas guardar en un archivo CSV.\n",
    "# Puedes reemplazar 'df' con el nombre de tu DataFrame.\n",
    "\n",
    "# Especifica el nombre del archivo CSV en el que deseas guardar los datos.\n",
    "nombre_archivo_csv = 'horas_por_año_genero.csv'\n",
    "\n",
    "# Utiliza el método 'to_csv' de Pandas para guardar el DataFrame en el archivo CSV.\n",
    "horas_por_año_genero.to_csv(nombre_archivo_csv, index=False)  # El argumento 'index=False' evita que se guarde el índice en el archivo CSV\n"
   ]
  },
  {
   "cell_type": "code",
   "execution_count": 17,
   "metadata": {},
   "outputs": [],
   "source": [
    "#def PlayTimeGenre( genero : str ): LISTA\n",
    "\n",
    "from fastapi import FastAPI\n",
    "import pandas as pd\n",
    "\n",
    "app = FastAPI()\n",
    "\n",
    "\n",
    "\n",
    "# Cargar los datos en el DataFrame y convertir 'release_date' a objetos datetime\n",
    "horas_por_año_genero = pd.read_csv('horas_por_año_genero.csv', parse_dates=['release_date'])\n",
    "\n",
    "@app.get('/PlayTimeGenre/{genero}')\n",
    "async def PlayTimeGenre(genero: str):\n",
    "    # Filtrar el DataFrame por el género especificado\n",
    "    genero_filtrado = horas_por_año_genero[horas_por_año_genero['genres'].str.contains(genero, case=False)]\n",
    "\n",
    "    if genero_filtrado.empty:\n",
    "        return {\"error\": f\"No se encontraron juegos para el género {genero}.\"}\n",
    "\n",
    "    # Encontrar el año con la suma máxima de horas jugadas para ese género\n",
    "    año_max_horas = genero_filtrado.loc[genero_filtrado['horas_jugadas'].idxmax(), 'release_date'].year\n",
    "\n",
    "    # Devolver el resultado en el formato especificado\n",
    "    resultado = {\"Año de lanzamiento con más horas jugadas para {}: \".format(genero): año_max_horas}\n",
    "    return resultado\n",
    "\n",
    "\n"
   ]
  },
  {
   "cell_type": "code",
   "execution_count": null,
   "metadata": {},
   "outputs": [],
   "source": [
    "df_cleaned.count"
   ]
  },
  {
   "cell_type": "code",
   "execution_count": 18,
   "metadata": {},
   "outputs": [],
   "source": [
    "import nest_asyncio\n",
    "nest_asyncio.apply()\n"
   ]
  },
  {
   "cell_type": "code",
   "execution_count": 21,
   "metadata": {},
   "outputs": [
    {
     "name": "stderr",
     "output_type": "stream",
     "text": [
      "INFO:     Started server process [2988]\n",
      "INFO:     Waiting for application startup.\n",
      "INFO:     Application startup complete.\n",
      "INFO:     Uvicorn running on http://0.0.0.0:8000 (Press CTRL+C to quit)\n"
     ]
    },
    {
     "name": "stdout",
     "output_type": "stream",
     "text": [
      "INFO:     127.0.0.1:55624 - \"GET /PlayTimeGenre/Action HTTP/1.1\" 200 OK\n",
      "INFO:     127.0.0.1:55627 - \"GET /sentiment_analysis/2012 HTTP/1.1\" 404 Not Found\n",
      "INFO:     127.0.0.1:55629 - \"GET /PlayTimeGenre/Casual HTTP/1.1\" 200 OK\n",
      "INFO:     127.0.0.1:55629 - \"GET /PlayTimeGenre/Casual HTTP/1.1\" 200 OK\n",
      "INFO:     127.0.0.1:55633 - \"GET /PlayTimeGenre/Simulation HTTP/1.1\" 200 OK\n",
      "INFO:     127.0.0.1:55633 - \"GET /PlayTimeGenre/Strategy HTTP/1.1\" 200 OK\n"
     ]
    },
    {
     "name": "stderr",
     "output_type": "stream",
     "text": [
      "INFO:     Shutting down\n",
      "INFO:     Waiting for application shutdown.\n",
      "INFO:     Application shutdown complete.\n",
      "INFO:     Finished server process [2988]\n"
     ]
    }
   ],
   "source": [
    "import uvicorn\n",
    "\n",
    "if __name__ == \"__main__\":\n",
    "    uvicorn.run(app, host=\"0.0.0.0\", port=8000)\n"
   ]
  },
  {
   "cell_type": "code",
   "execution_count": null,
   "metadata": {},
   "outputs": [],
   "source": [
    "#Continuo con la 2da funcion"
   ]
  },
  {
   "cell_type": "code",
   "execution_count": null,
   "metadata": {},
   "outputs": [],
   "source": [
    "import pandas as pd\n",
    "\n",
    "# Supongamos que tienes un DataFrame llamado 'df' que deseas guardar en un archivo CSV.\n",
    "# Puedes reemplazar 'df' con el nombre de tu DataFrame.\n",
    "\n",
    "# Especifica el nombre del archivo CSV en el que deseas guardar los datos.\n",
    "nombre_archivo_csv = 'df_items.csv'\n",
    "\n",
    "# Utiliza el método 'to_csv' de Pandas para guardar el DataFrame en el archivo CSV.\n",
    "df_reviewsfull1.to_csv(nombre_archivo_csv, index=False)  # El argumento 'index=False' evita que se guarde el índice en el archivo CSV"
   ]
  },
  {
   "cell_type": "code",
   "execution_count": null,
   "metadata": {},
   "outputs": [],
   "source": [
    "import pandas as pd\n",
    "\n",
    "# Cargar los dos DataFrames\n",
    "df1 = pd.read_csv('Steam_games.csv')\n",
    "df2 = pd.read_csv('df_items.csv')\n",
    "\n",
    "# Unir los DataFrames en función de la columna común 'title' y 'item_name'\n",
    "df_combined = df1.merge(df2, left_on='title', right_on='item_name', how='inner')\n",
    "\n",
    "# Agregar la columna 'release_date' al DataFrame y manejar los valores\n",
    "df_combined['release_date'] = df_combined['release_date'].apply(\n",
    "    lambda x: pd.to_datetime(x, format='%Y-%m-%d', errors='coerce')\n",
    ")\n",
    "\n",
    "# Limpiar los datos en la columna 'genres' para ver solo el primer elemento por fila\n",
    "df_combined['genres'] = df_combined['genres'].str.strip(\"[]\").str.split(', ').str.get(0)\n",
    "\n",
    "# Mostrar los primeros registros para verificar los datos procesados\n",
    "print(df_combined.head())\n",
    "\n"
   ]
  },
  {
   "cell_type": "code",
   "execution_count": null,
   "metadata": {},
   "outputs": [],
   "source": [
    "df_combined.head()"
   ]
  },
  {
   "cell_type": "code",
   "execution_count": null,
   "metadata": {},
   "outputs": [],
   "source": [
    "\n",
    "# Seleccionar las columnas deseadas\n",
    "columns_to_keep = [\"genres\", \"title\", \"release_date\", \"user_id\", \"playtime_forever\"]\n",
    "\n",
    "# Crear un nuevo DataFrame con las columnas seleccionadas\n",
    "df_selected_columns = df_combined[columns_to_keep]\n",
    "\n",
    "# Guardar el DataFrame con las columnas seleccionadas en un archivo CSV\n",
    "df_selected_columns.to_csv('df_items_Steamgames_selected.csv', index=False)\n"
   ]
  },
  {
   "cell_type": "code",
   "execution_count": null,
   "metadata": {},
   "outputs": [],
   "source": [
    "\n",
    "# Supongamos que tienes un DataFrame llamado 'df' que deseas guardar en un archivo CSV.\n",
    "# Puedes reemplazar 'df' con el nombre de tu DataFrame.\n",
    "\n",
    "# Especifica el nombre del archivo CSV en el que deseas guardar los datos.\n",
    "nombre_archivo_csv = 'df_items_Steamgames.csv'\n",
    "\n",
    "# Utiliza el método 'to_csv' de Pandas para guardar el DataFrame en el archivo CSV.\n",
    "df_combined.to_csv(nombre_archivo_csv, index=False)  # El argumento 'index=False' evita que se guarde el índice en el archivo CSV"
   ]
  },
  {
   "cell_type": "code",
   "execution_count": null,
   "metadata": {},
   "outputs": [],
   "source": [
    "import pandas as pd\n",
    "\n",
    "# Cargar los datos limpios en un DataFrame\n",
    "df_cleaned = pd.read_csv('df_items_Steamgames_selected.csv')\n",
    "\n",
    "def calcular_horas_por_genero(genero):\n",
    "    # Eliminar comillas del género (si las tiene)\n",
    "    genero = genero.strip(\"'\")\n",
    "\n",
    "    # Filtrar el DataFrame por el género especificado\n",
    "    genero_filtrado = df_cleaned[df_cleaned['genres'].str.strip(\"'\") == genero]\n",
    "\n",
    "    if genero_filtrado.empty:\n",
    "        return {\"error\": f\"No se encontraron juegos para el género {genero}.\"}\n",
    "\n",
    "    # Encontrar el usuario con más horas jugadas para ese género\n",
    "    max_horas_usuario = genero_filtrado.loc[genero_filtrado['playtime_forever'].idxmax(), 'user_id']\n",
    "\n",
    "    # Calcular la acumulación de horas jugadas por año\n",
    "    genero_filtrado['release_date'] = pd.to_datetime(genero_filtrado['release_date'])\n",
    "    horas_por_año = genero_filtrado.groupby(genero_filtrado['release_date'].dt.year)['playtime_forever'].sum().reset_index()\n",
    "    horas_por_año.rename(columns={'release_date': 'Año', 'playtime_forever': 'Horas'}, inplace=True)\n",
    "\n",
    "    # Crear un diccionario con los resultados\n",
    "    resultado = {\n",
    "        \"Usuario con más horas jugadas para {}: \".format(genero): max_horas_usuario,\n",
    "        \"Horas jugadas por año\": horas_por_año.to_dict(orient='records')\n",
    "    }\n",
    "    \n",
    "    return resultado\n"
   ]
  },
  {
   "cell_type": "code",
   "execution_count": null,
   "metadata": {},
   "outputs": [],
   "source": [
    "import pandas as pd\n",
    "\n",
    "# Cargar los datos limpios en un DataFrame\n",
    "df_cleaned = pd.read_csv('df_items_Steamgames_selected.csv')\n",
    "\n",
    "def calcular_horas_por_genero(genero):\n",
    "    # Eliminar comillas del género (si las tiene)\n",
    "    genero = genero.strip(\"'\")\n",
    "\n",
    "    # Filtrar el DataFrame por el género especificado\n",
    "    genero_filtrado = df_cleaned[df_cleaned['genres'].str.strip(\"'\") == genero]\n",
    "\n",
    "    if genero_filtrado.empty:\n",
    "        return {\"error\": f\"No se encontraron juegos para el género {genero}.\"}\n",
    "\n",
    "    # Encontrar el usuario con más horas jugadas para ese género\n",
    "    max_horas_usuario = genero_filtrado.loc[genero_filtrado['playtime_forever'].idxmax(), 'user_id']\n",
    "\n",
    "    # Calcular la acumulación de horas jugadas por año\n",
    "    genero_filtrado['release_date'] = pd.to_datetime(genero_filtrado['release_date'])\n",
    "    horas_por_año = genero_filtrado.groupby(genero_filtrado['release_date'].dt.year)['playtime_forever'].sum().reset_index()\n",
    "    horas_por_año.rename(columns={'release_date': 'Año', 'playtime_forever': 'Horas'}, inplace=True)\n",
    "\n",
    "    # Crear un diccionario con los resultados\n",
    "    resultado = {\n",
    "        \"Usuario con más horas jugadas para {}: \".format(genero): max_horas_usuario,\n",
    "        \"Horas jugadas por año\": horas_por_año.to_dict(orient='records')\n",
    "    }\n",
    "    \n",
    "    return resultado\n"
   ]
  },
  {
   "cell_type": "code",
   "execution_count": null,
   "metadata": {},
   "outputs": [],
   "source": [
    "genero = 'Action'  # Cambia 'Action' por el género que desees consultar\n",
    "resultados = calcular_horas_por_genero(genero)\n",
    "print(resultados)\n"
   ]
  },
  {
   "cell_type": "code",
   "execution_count": null,
   "metadata": {},
   "outputs": [],
   "source": [
    "from fastapi import FastAPI\n",
    "import pandas as pd\n",
    "\n",
    "app = FastAPI()\n",
    "\n",
    "# Cargar los datos limpios en un DataFrame\n",
    "df_cleaned = pd.read_csv('df_items_Steamgames_selected.csv')\n",
    "\n",
    "def calcular_horas_por_genero(genero):\n",
    "    # Eliminar comillas del género (si las tiene)\n",
    "    genero = genero.strip(\"'\")\n",
    "\n",
    "    # Filtrar el DataFrame por el género especificado\n",
    "    genero_filtrado = df_cleaned[df_cleaned['genres'].str.strip(\"'\") == genero]\n",
    "\n",
    "    if genero_filtrado.empty:\n",
    "        return {\"error\": f\"No se encontraron juegos para el género {genero}.\"}\n",
    "\n",
    "    # Encontrar el usuario con más horas jugadas para ese género\n",
    "    max_horas_usuario = genero_filtrado.loc[genero_filtrado['playtime_forever'].idxmax(), 'user_id']\n",
    "\n",
    "    # Calcular la acumulación de horas jugadas por año\n",
    "    genero_filtrado['release_date'] = pd.to_datetime(genero_filtrado['release_date'])\n",
    "    horas_por_año = genero_filtrado.groupby(genero_filtrado['release_date'].dt.year)['playtime_forever'].sum().reset_index()\n",
    "    horas_por_año.rename(columns={'release_date': 'Año', 'playtime_forever': 'Horas'}, inplace=True)\n",
    "\n",
    "    # Crear un diccionario con los resultados\n",
    "    resultado = {\n",
    "        \"Usuario con más horas jugadas para {}: \".format(genero): max_horas_usuario,\n",
    "        \"Horas jugadas por año\": horas_por_año.to_dict(orient='records')\n",
    "    }\n",
    "    \n",
    "    return resultado\n",
    "\n",
    "@app.get('/UserForGenre/{genero}')\n",
    "async def UserForGenre(genero: str):\n",
    "    resultado = calcular_horas_por_genero(genero)\n",
    "    return resultado\n",
    "\n"
   ]
  },
  {
   "cell_type": "code",
   "execution_count": null,
   "metadata": {},
   "outputs": [],
   "source": [
    "import uvicorn\n",
    "import nest_asyncio\n",
    "\n",
    "nest_asyncio.apply()\n",
    "\n",
    "if __name__ == \"__main__\":\n",
    "    uvicorn.run(app, host=\"0.0.0.0\", port=8000)\n"
   ]
  },
  {
   "cell_type": "code",
   "execution_count": null,
   "metadata": {},
   "outputs": [],
   "source": [
    "import uvicorn\n",
    "\n",
    "if __name__ == \"__main__\":\n",
    "    uvicorn.run(app, host=\"0.0.0.0\", port=8000)"
   ]
  },
  {
   "cell_type": "code",
   "execution_count": null,
   "metadata": {},
   "outputs": [],
   "source": [
    "#Continuare con la 3ra funcion"
   ]
  },
  {
   "cell_type": "code",
   "execution_count": null,
   "metadata": {},
   "outputs": [],
   "source": [
    "# Supongamos que tienes un DataFrame llamado 'df' que deseas guardar en un archivo CSV.\n",
    "# Puedes reemplazar 'df' con el nombre de tu DataFrame.\n",
    "\n",
    "# Especifica el nombre del archivo CSV en el que deseas guardar los datos.\n",
    "nombre_archivo_csv = 'df_reviews.csv'\n",
    "\n",
    "# Utiliza el método 'to_csv' de Pandas para guardar el DataFrame en el archivo CSV.\n",
    "df_reviewsfull.to_csv(nombre_archivo_csv, index=False)  # El argumento 'index=False' evita que se guarde el índice en el archivo CSV"
   ]
  },
  {
   "cell_type": "code",
   "execution_count": 22,
   "metadata": {},
   "outputs": [
    {
     "name": "stdout",
     "output_type": "stream",
     "text": [
      "DataFrame 'df_reviews':\n",
      "                      posted   item_id recommend  sentiment_analysis\n",
      "0   Posted November 5, 2011.    1250.0      True                   2\n",
      "1      Posted July 15, 2011.   22200.0      True                   2\n",
      "2     Posted April 21, 2011.   43110.0      True                   2\n",
      "3      Posted June 24, 2014.  251610.0      True                   2\n",
      "4  Posted September 8, 2013.  227300.0      True                   0\n",
      "\n",
      "DataFrame 'df_items':\n",
      "   item_id                  item_name\n",
      "0     10.0             Counter-Strike\n",
      "1     20.0      Team Fortress Classic\n",
      "2     30.0              Day of Defeat\n",
      "3     40.0         Deathmatch Classic\n",
      "4     50.0  Half-Life: Opposing Force\n"
     ]
    }
   ],
   "source": [
    "import pandas as pd\n",
    "\n",
    "# Cargar los archivos CSV en DataFrames\n",
    "df_reviews = pd.read_csv('df_reviewssentiment.csv', usecols=['recommend', 'sentiment_analysis', 'posted', 'item_id'])\n",
    "df_items = pd.read_csv('df_items.csv', usecols=['item_name', 'item_id'])\n",
    "\n",
    "# Eliminar filas con valores NaN o duplicados en ambos DataFrames\n",
    "df_reviews.dropna(inplace=True)\n",
    "df_reviews.drop_duplicates(inplace=True)\n",
    "df_items.dropna(inplace=True)\n",
    "df_items.drop_duplicates(inplace=True)\n",
    "\n",
    "# Verificar el resultado\n",
    "print(\"DataFrame 'df_reviews':\")\n",
    "print(df_reviews.head())\n",
    "\n",
    "print(\"\\nDataFrame 'df_items':\")\n",
    "print(df_items.head())\n"
   ]
  },
  {
   "cell_type": "code",
   "execution_count": null,
   "metadata": {},
   "outputs": [],
   "source": [
    "# Supongamos que tienes un DataFrame llamado 'df' que deseas guardar en un archivo CSV.\n",
    "# Puedes reemplazar 'df' con el nombre de tu DataFrame.\n",
    "\n",
    "# Especifica el nombre del archivo CSV en el que deseas guardar los datos.\n",
    "nombre_archivo_csv = 'df_reviewsf3.csv'\n",
    "\n",
    "# Utiliza el método 'to_csv' de Pandas para guardar el DataFrame en el archivo CSV.\n",
    "df_reviewsfull.to_csv(nombre_archivo_csv, index=False)  # El argumento 'index=False' evita que se guarde el índice en el archivo CSV"
   ]
  },
  {
   "cell_type": "code",
   "execution_count": 24,
   "metadata": {},
   "outputs": [
    {
     "name": "stdout",
     "output_type": "stream",
     "text": [
      "No se encontraron juegos para el año 2010.\n",
      "Resultado final:\n",
      "[{'error': 'No se encontraron juegos para el año 2010.'}]\n"
     ]
    }
   ],
   "source": [
    "import pandas as pd\n",
    "\n",
    "# Función para filtrar las reseñas por año\n",
    "def filter_reviews_by_year(df_reviews, año):\n",
    "    df_reviews['posted'] = pd.to_datetime(df_reviews['posted'], format='%B %d, %Y', errors='coerce')\n",
    "    df_reviews['year'] = df_reviews['posted'].dt.year\n",
    "\n",
    "    # Filtrar las reseñas por año y las que tengan valores en 'recommend' y 'sentiment_analysis'\n",
    "    juegos_del_año = df_reviews[(df_reviews['year'] == año) & (df_reviews['recommend'].notna()) & (df_reviews['sentiment_analysis'].notna())]\n",
    "    \n",
    "    if juegos_del_año.empty:\n",
    "        print(f\"No se encontraron juegos para el año {año}.\")\n",
    "        return juegos_del_año\n",
    "    \n",
    "    print(f'Reseñas filtradas por año {año}:\\n{len(juegos_del_año)} reseñas')\n",
    "    return juegos_del_año\n",
    "\n",
    "# Resto del código se mantiene igual\n",
    "# Función para obtener los juegos recomendados para un año específico\n",
    "def get_recommended_games(juegos_del_año):\n",
    "    juegos_recomendados = juegos_del_año[(juegos_del_año['recommend'] == True) & (juegos_del_año['sentiment_analysis'].isin([1, 2]))]\n",
    "    print(f'Juegos recomendados:\\n{len(juegos_recomendados)} juegos')\n",
    "    return juegos_recomendados\n",
    "\n",
    "# Función para encontrar los tres juegos más recomendados\n",
    "def get_top_3_games(juegos_recomendados, df_items):\n",
    "    top_juegos = juegos_recomendados['item_id'].value_counts().reset_index()\n",
    "    top_juegos.columns = ['item_id', 'count']\n",
    "    top_juegos = top_juegos.sort_values(by='count', ascending=False)\n",
    "    top_3_juegos = top_juegos.head(3)\n",
    "    \n",
    "    def find_item_name(item_id):\n",
    "        matches = df_items[df_items['item_id'] == item_id]\n",
    "        return matches['item_name'].values[0] if len(matches) > 0 else 'Nombre no encontrado'\n",
    "    \n",
    "    top_3_juegos['item_name'] = top_3_juegos['item_id'].apply(find_item_name)\n",
    "    print(f'Top 3 juegos recomendados:\\n{top_3_juegos}')\n",
    "    return top_3_juegos['item_name'].tolist()\n",
    "\n",
    "# Función principal para recomendar juegos por año\n",
    "def UsersRecommend(año, df_reviews, df_items):\n",
    "    juegos_del_año = filter_reviews_by_year(df_reviews, año)\n",
    "    \n",
    "    if juegos_del_año.empty:\n",
    "        return [{\"error\": f\"No se encontraron juegos para el año {año}.\"}]\n",
    "    \n",
    "    juegos_recomendados = get_recommended_games(juegos_del_año)\n",
    "    \n",
    "    if juegos_recomendados.empty:\n",
    "        return [{\"message\": f\"No se encontraron juegos recomendados para el año {año}.\"}]\n",
    "    \n",
    "    top_3_juegos = get_top_3_games(juegos_recomendados, df_items)\n",
    "    \n",
    "    resultado = [{\"Puesto {}: \".format(i + 1): juego} for i, juego in enumerate(top_3_juegos)]\n",
    "    return resultado\n",
    "\n",
    "# Ejemplo de uso\n",
    "año = 2010  # Cambia el año según tus necesidades\n",
    "resultado = UsersRecommend(año, df_reviews, df_items)\n",
    "print(f'Resultado final:\\n{resultado}')\n"
   ]
  },
  {
   "cell_type": "code",
   "execution_count": 10,
   "metadata": {},
   "outputs": [
    {
     "name": "stdout",
     "output_type": "stream",
     "text": [
      "No se encontraron juegos para el año 2010.\n",
      "Resultado final:\n",
      "[{'error': 'No se encontraron juegos para el año 2010.'}]\n"
     ]
    }
   ],
   "source": [
    "import pandas as pd\n",
    "\n",
    "# Cargar los datos limpios en un DataFrame\n",
    "df_reviews = pd.read_csv('df_reviews.csv')\n",
    "df_items = pd.read_csv('df_items.csv')\n",
    "\n",
    "def filter_reviews_by_year(df_reviews, año):\n",
    "    df_reviews['year'] = pd.to_datetime(df_reviews['posted'], format='%B %d, %Y', errors='coerce').dt.year\n",
    "\n",
    "    juegos_del_año = df_reviews[(df_reviews['year'] == año) & (df_reviews['recommend'] == True)]\n",
    "    \n",
    "    if juegos_del_año.empty:\n",
    "        print(f\"No se encontraron juegos para el año {año}.\")\n",
    "        return juegos_del_año\n",
    "    \n",
    "    print(f'Reseñas filtradas por año {año}:\\n{len(juegos_del_año)} reseñas')\n",
    "    return juegos_del_año\n",
    "\n",
    "def get_top_3_games(juegos_del_año, df_items):\n",
    "    top_juegos = juegos_del_año['item_id'].value_counts().reset_index().head(3)\n",
    "    \n",
    "    def find_item_name(item_id):\n",
    "        matches = df_items[df_items['item_id'] == item_id]\n",
    "        return matches['item_name'].values[0] if len(matches) > 0 else 'Nombre no encontrado'\n",
    "    \n",
    "    top_juegos['item_name'] = top_juegos['index'].apply(find_item_name)\n",
    "    \n",
    "    resultado = [{\"Puesto {}: \".format(i + 1): juego} for i, juego in enumerate(top_juegos['item_name'].tolist())]\n",
    "    return resultado\n",
    "\n",
    "def UsersRecommend(año):\n",
    "    try:\n",
    "        juegos_del_año = filter_reviews_by_year(df_reviews, año)\n",
    "        \n",
    "        if juegos_del_año.empty:\n",
    "            return [{\"error\": f\"No se encontraron juegos para el año {año}.\"}]\n",
    "        \n",
    "        top_3_juegos = get_top_3_games(juegos_del_año, df_items)\n",
    "        \n",
    "        return top_3_juegos\n",
    "    except Exception as e:\n",
    "        return [{\"error\": str(e)}]\n",
    "\n",
    "año = 2010  # Cambia el año según tus necesidades\n",
    "resultado = UsersRecommend(año)\n",
    "print(f'Resultado final:\\n{resultado}')\n",
    "\n"
   ]
  },
  {
   "cell_type": "code",
   "execution_count": null,
   "metadata": {},
   "outputs": [],
   "source": [
    "\n",
    "import nest_asyncio\n",
    "\n",
    "nest_asyncio.apply()"
   ]
  },
  {
   "cell_type": "code",
   "execution_count": null,
   "metadata": {},
   "outputs": [],
   "source": [
    "import uvicorn\n",
    "\n",
    "if __name__ == \"__main__\":\n",
    "    uvicorn.run(app, host=\"0.0.0.0\", port=8000)"
   ]
  },
  {
   "cell_type": "code",
   "execution_count": null,
   "metadata": {},
   "outputs": [],
   "source": [
    "#Continuo con funcion 4"
   ]
  },
  {
   "cell_type": "code",
   "execution_count": null,
   "metadata": {},
   "outputs": [],
   "source": [
    "import pandas as pd\n",
    "\n",
    "# Función para filtrar las reseñas por año\n",
    "def filter_reviews_by_year(df_reviews, año):\n",
    "    df_reviews['posted'] = pd.to_datetime(df_reviews['posted'], format='%B %d, %Y', errors='coerce')\n",
    "    df_reviews['year'] = df_reviews['posted'].dt.year\n",
    "\n",
    "    # Filtrar las reseñas por año y las que tengan valores en 'recommend' y 'sentiment_analysis'\n",
    "    juegos_del_año = df_reviews[(df_reviews['year'] == año) & (df_reviews['recommend'].notna()) & (df_reviews['sentiment_analysis'].notna())]\n",
    "    \n",
    "    if juegos_del_año.empty:\n",
    "        print(f\"No se encontraron juegos para el año {año}.\")\n",
    "        return juegos_del_año\n",
    "    \n",
    "    print(f'Reseñas filtradas por año {año}:\\n{len(juegos_del_año)} reseñas')\n",
    "    return juegos_del_año\n",
    "\n",
    "# Función para obtener los juegos menos recomendados por usuarios para un año específico\n",
    "def UsersNotRecommend(año, df_reviews, df_items):\n",
    "    juegos_del_año = filter_reviews_by_year(df_reviews, año)\n",
    "    \n",
    "    if juegos_del_año.empty:\n",
    "        return [{\"message\": f\"No se encontraron juegos para el año {año}.\"}]\n",
    "    \n",
    "    # Filtrar las reseñas menos recomendadas por usuarios\n",
    "    juegos_no_recomendados = juegos_del_año[(juegos_del_año['recommend'] == False) & (juegos_del_año['sentiment_analysis'] == 0)]\n",
    "    \n",
    "    if juegos_no_recomendados.empty:\n",
    "        return [{\"message\": f\"No se encontraron juegos menos recomendados por usuarios para el año {año}.\"}]\n",
    "    \n",
    "    # Contar la cantidad de juegos menos recomendados\n",
    "    top_juegos = juegos_no_recomendados['item_id'].value_counts().reset_index()\n",
    "    top_juegos.columns = ['item_id', 'count']\n",
    "    top_juegos = top_juegos.sort_values(by='count', ascending=False)\n",
    "    top_3_juegos = top_juegos.head(3)\n",
    "    \n",
    "    def find_item_name(item_id):\n",
    "        matches = df_items[df_items['item_id'] == item_id]\n",
    "        return matches['item_name'].values[0] if len(matches) > 0 else 'Nombre no encontrado'\n",
    "    \n",
    "    top_3_juegos['item_name'] = top_3_juegos['item_id'].apply(find_item_name)\n",
    "    \n",
    "    resultado = [{\"Puesto {}: \".format(i + 1): juego} for i, juego in enumerate(top_3_juegos['item_name'])]\n",
    "    return resultado\n",
    "\n",
    "# Ejemplo de uso\n",
    "año = 2011  # Cambia el año según tus necesidades\n",
    "resultado = UsersNotRecommend(año, df_reviews, df_items)\n",
    "print(f'Top 3 juegos menos recomendados por usuarios para el año {año}:\\n{resultado}')\n",
    "\n"
   ]
  },
  {
   "cell_type": "code",
   "execution_count": 15,
   "metadata": {},
   "outputs": [
    {
     "name": "stdout",
     "output_type": "stream",
     "text": [
      "No se encontraron juegos para el año 2011.\n",
      "Top 3 juegos menos recomendados por usuarios para el año 2011:\n",
      "[{'message': 'No se encontraron juegos para el año 2011.'}]\n"
     ]
    }
   ],
   "source": [
    "import pandas as pd\n",
    "\n",
    "# Cargar los datos desde los archivos CSV\n",
    "df_reviews = pd.read_csv('df_reviewssentiment.csv')\n",
    "df_items = pd.read_csv('df_items.csv')\n",
    "\n",
    "# Función para filtrar las reseñas por año\n",
    "def filter_reviews_by_year(df_reviews, año):\n",
    "    df_reviews['posted'] = pd.to_datetime(df_reviews['posted'], format='%B %d, %Y', errors='coerce')\n",
    "    df_reviews['year'] = df_reviews['posted'].dt.year\n",
    "\n",
    "    # Filtrar las reseñas por año y las que tengan valores en 'recommend' y 'sentiment_analysis'\n",
    "    juegos_del_año = df_reviews[(df_reviews['year'] == año) & (df_reviews['recommend'].notna()) & (df_reviews['sentiment_analysis'].notna())]\n",
    "    \n",
    "    if juegos_del_año.empty:\n",
    "        print(f\"No se encontraron juegos para el año {año}.\")\n",
    "        return juegos_del_año\n",
    "    \n",
    "    print(f'Reseñas filtradas por año {año}:\\n{len(juegos_del_año)} reseñas')\n",
    "    return juegos_del_año\n",
    "\n",
    "# Función para obtener los juegos menos recomendados por usuarios para un año específico\n",
    "def UsersNotRecommend(año, df_reviews, df_items):\n",
    "    juegos_del_año = filter_reviews_by_year(df_reviews, año)\n",
    "    \n",
    "    if juegos_del_año.empty:\n",
    "        return [{\"message\": f\"No se encontraron juegos para el año {año}.\"}]\n",
    "    \n",
    "    # Filtrar las reseñas menos recomendadas por usuarios\n",
    "    juegos_no_recomendados = juegos_del_año[(juegos_del_año['recommend'] == False) & (df_reviews['sentiment_analysis'] == 0)]\n",
    "    \n",
    "    if juegos_no_recomendados.empty:\n",
    "        return [{\"message\": f\"No se encontraron juegos menos recomendados por usuarios para el año {año}.\"}]\n",
    "    \n",
    "    # Contar la cantidad de juegos menos recomendados\n",
    "    top_juegos = juegos_no_recomendados['item_id'].value_counts().reset_index()\n",
    "    top_juegos.columns = ['item_id', 'count']\n",
    "    top_juegos = top_juegos.sort_values(by='count', ascending=False)\n",
    "    top_3_juegos = top_juegos.head(3)\n",
    "    \n",
    "    def find_item_name(item_id):\n",
    "        matches = df_items[df_items['item_id'] == item_id]\n",
    "        return matches['item_name'].values[0] if len(matches) > 0 else 'Nombre no encontrado'\n",
    "    \n",
    "    top_3_juegos['item_name'] = top_3_juegos['item_id'].apply(find_item_name)\n",
    "    \n",
    "    resultado = [{\"Puesto {}: \".format(i + 1): juego} for i, juego in enumerate(top_3_juegos['item_name'])]\n",
    "    return resultado\n",
    "\n",
    "# Ejemplo de uso\n",
    "año = 2011  # Cambia el año según tus necesidades\n",
    "resultado = UsersNotRecommend(año, df_reviews, df_items)\n",
    "print(f'Top 3 juegos menos recomendados por usuarios para el año {año}:\\n{resultado}')\n",
    "\n"
   ]
  },
  {
   "cell_type": "code",
   "execution_count": null,
   "metadata": {},
   "outputs": [],
   "source": [
    "from fastapi import FastAPI\n",
    "from typing import List\n",
    "\n",
    "app = FastAPI()\n",
    "\n",
    "# Tu código de carga de datos y funciones definidas anteriormente debe estar aquí.\n",
    "\n",
    "# Definir un modelo de respuesta\n",
    "class JuegoResponseItem:\n",
    "    def __init__(self, puesto: int, juego: str):\n",
    "        self.puesto = puesto\n",
    "        self.juego = juego\n",
    "\n",
    "# Ruta para obtener los juegos menos recomendados por usuarios para un año dado\n",
    "@app.get(\"/users_not_recommend/\")\n",
    "async def get_users_not_recommend(año: int):\n",
    "    resultado = UsersNotRecommend(año, df_reviews, df_items)\n",
    "    return [JuegoResponseItem(puesto=i+1, juego=juego) for i, juego in enumerate(resultado)]\n"
   ]
  },
  {
   "cell_type": "code",
   "execution_count": null,
   "metadata": {},
   "outputs": [],
   "source": [
    "import uvicorn\n",
    "\n",
    "if __name__ == \"__main__\":\n",
    "    uvicorn.run(app, host=\"0.0.0.0\", port=8000)"
   ]
  },
  {
   "cell_type": "code",
   "execution_count": null,
   "metadata": {},
   "outputs": [],
   "source": [
    "#Continuo con funcion 5"
   ]
  },
  {
   "cell_type": "code",
   "execution_count": null,
   "metadata": {},
   "outputs": [],
   "source": [
    "import pandas as pd\n",
    "\n",
    "# Cargar los datos desde el archivo CSV al principio del código\n",
    "df = pd.read_csv('df_reviewssentiment.csv')\n",
    "\n",
    "# Función para obtener el análisis de sentimiento para todo el DataFrame\n",
    "def sentiment_analysis(df):\n",
    "    if df.empty:\n",
    "        return {\"Negative\": 0, \"Neutral\": 0, \"Positive\": 0}\n",
    "    \n",
    "    # Contar la cantidad de registros para cada categoría de análisis de sentimiento\n",
    "    conteo_sentimientos = df['sentiment_analysis'].value_counts().to_dict()\n",
    "    \n",
    "    # Asegurarse de tener todas las categorías (Negative, Neutral, Positive) en el resultado\n",
    "    resultado = {\n",
    "        \"Negative\": conteo_sentimientos.get(0, 0),\n",
    "        \"Neutral\": conteo_sentimientos.get(1, 0),\n",
    "        \"Positive\": conteo_sentimientos.get(2, 0)\n",
    "    }\n",
    "    \n",
    "    return resultado\n",
    "\n",
    "# Ejemplo de uso\n",
    "resultado = sentiment_analysis(df)\n",
    "print(f\"Análisis de sentimiento para todos los años:\\n{resultado}\")\n",
    "\n",
    "\n"
   ]
  },
  {
   "cell_type": "code",
   "execution_count": null,
   "metadata": {},
   "outputs": [],
   "source": [
    "import pandas as pd\n",
    "import re\n",
    "\n",
    "# Cargar los datos desde el archivo CSV al principio del código\n",
    "df = pd.read_csv('df_reviewssentiment.csv')\n",
    "\n",
    "# Función para obtener el análisis de sentimiento según el año de lanzamiento\n",
    "def sentiment_analysis_por_año_lanzamiento(año, df):\n",
    "    # Utilizar una expresión regular para extraer el año de la columna \"posted\"\n",
    "    df['posted'] = df['posted'].str.extract(r'(\\d{4})')\n",
    "    \n",
    "    # Convertir la columna \"posted\" a números enteros\n",
    "    df['posted'] = pd.to_numeric(df['posted'], errors='coerce')\n",
    "    \n",
    "    # Filtrar las reseñas por el año de lanzamiento especificado\n",
    "    reseñas_por_año_lanzamiento = df[df['posted'] == año]\n",
    "    \n",
    "    if reseñas_por_año_lanzamiento.empty:\n",
    "        return {\"Negative\": 0, \"Neutral\": 0, \"Positive\": 0}\n",
    "    \n",
    "    # Contar la cantidad de registros en cada categoría de análisis de sentimiento\n",
    "    conteo_negative = len(reseñas_por_año_lanzamiento[reseñas_por_año_lanzamiento['sentiment_analysis'] == 0])\n",
    "    conteo_neutral = len(reseñas_por_año_lanzamiento[reseñas_por_año_lanzamiento['sentiment_analysis'] == 1])\n",
    "    conteo_positive = len(reseñas_por_año_lanzamiento[reseñas_por_año_lanzamiento['sentiment_analysis'] == 2])\n",
    "    \n",
    "    resultado = {\n",
    "        \"Negative\": conteo_negative,\n",
    "        \"Neutral\": conteo_neutral,\n",
    "        \"Positive\": conteo_positive\n",
    "    }\n",
    "    \n",
    "    return resultado\n",
    "\n",
    "# Ejemplo de uso\n",
    "año_seleccionado = 2012  # Cambia el año según tus necesidades\n",
    "resultado_año_lanzamiento = sentiment_analysis_por_año_lanzamiento(año_seleccionado, df)\n",
    "print(f\"Análisis de sentimiento para el año de lanzamiento {año_seleccionado}:\\n{resultado_año_lanzamiento}\")\n",
    "\n"
   ]
  },
  {
   "cell_type": "code",
   "execution_count": null,
   "metadata": {},
   "outputs": [],
   "source": [
    "import pandas as pd\n",
    "from fastapi import FastAPI\n",
    "\n",
    "# Cargar los datos desde el archivo CSV\n",
    "df = pd.read_csv('df_reviewssentiment.csv')\n",
    "\n",
    "# Filtrar solo las filas que contienen valores de tipo cadena en la columna \"posted\"\n",
    "df = df[df['posted'].str.match(r'^.*\\d{4}.*$', na=False)]\n",
    "\n",
    "# Utilizar una expresión regular para extraer el año de la columna \"posted\"\n",
    "df['posted'] = df['posted'].str.extract(r'(\\d{4})')\n",
    "\n",
    "# Convertir la columna \"posted\" a números enteros\n",
    "df['posted'] = pd.to_numeric(df['posted'], errors='coerce')\n",
    "\n",
    "# Crear una instancia de FastAPI\n",
    "app = FastAPI()\n",
    "\n",
    "# Función para obtener el análisis de sentimiento según el año de lanzamiento\n",
    "def sentiment_analysis_por_año_lanzamiento(año, df):\n",
    "    # Filtrar las reseñas por el año de lanzamiento especificado\n",
    "    reseñas_por_año_lanzamiento = df[df['posted'] == año]\n",
    "    \n",
    "    if reseñas_por_año_lanzamiento.empty:\n",
    "        return {\"Negative\": 0, \"Neutral\": 0, \"Positive\": 0}\n",
    "    \n",
    "    # Contar la cantidad de registros en cada categoría de análisis de sentimiento\n",
    "    conteo_negative = len(reseñas_por_año_lanzamiento[reseñas_por_año_lanzamiento['sentiment_analysis'] == 0])\n",
    "    conteo_neutral = len(reseñas_por_año_lanzamiento[reseñas_por_año_lanzamiento['sentiment_analysis'] == 1])\n",
    "    conteo_positive = len(reseñas_por_año_lanzamiento[reseñas_por_año_lanzamiento['sentiment_analysis'] == 2])\n",
    "    \n",
    "    resultado = {\n",
    "        \"Negative\": conteo_negative,\n",
    "        \"Neutral\": conteo_neutral,\n",
    "        \"Positive\": conteo_positive\n",
    "    }\n",
    "    \n",
    "    return resultado\n",
    "\n",
    "# Endpoint para obtener el análisis de sentimiento por año de lanzamiento\n",
    "@app.get('/sentiment_analysis/{year}')\n",
    "async def get_sentiment_analysis(year: int):\n",
    "    resultado_año_lanzamiento = sentiment_analysis_por_año_lanzamiento(year, df)\n",
    "    return resultado_año_lanzamiento\n",
    "\n",
    "\n"
   ]
  },
  {
   "cell_type": "code",
   "execution_count": null,
   "metadata": {},
   "outputs": [],
   "source": [
    "import uvicorn\n",
    "\n",
    "if __name__ == \"__main__\":\n",
    "    uvicorn.run(app, host=\"0.0.0.0\", port=8000)"
   ]
  },
  {
   "cell_type": "code",
   "execution_count": null,
   "metadata": {},
   "outputs": [],
   "source": [
    "pip freeze > requirements.txt"
   ]
  }
 ],
 "metadata": {
  "kernelspec": {
   "display_name": "Python 3",
   "language": "python",
   "name": "python3"
  },
  "language_info": {
   "codemirror_mode": {
    "name": "ipython",
    "version": 3
   },
   "file_extension": ".py",
   "mimetype": "text/x-python",
   "name": "python",
   "nbconvert_exporter": "python",
   "pygments_lexer": "ipython3",
   "version": "3.11.5"
  },
  "orig_nbformat": 4
 },
 "nbformat": 4,
 "nbformat_minor": 2
}
